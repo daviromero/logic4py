{
 "cells": [
  {
   "attachments": {},
   "cell_type": "markdown",
   "metadata": {
    "id": "CBMwlr_Uc-aA"
   },
   "source": [
    "# Lógica para Computação: Sistema Dedutível da Lógica Proposicional\n",
    "> *Autor: Davi Romero de Vasconcelos, daviromero@ufc.br, Universidade Federal do Ceará, Campus de Quixadá, Fevereiro de 2022*.\n",
    "> *(Última atualização 06/03/2022)*\n",
    "\n",
    "Este material foi preparado para a disciplina de Lógica para Computação com a finalidade de apresentar os conceitos básicos de sistema dedutível. Alguns conceitos serão apresentados na Linguagem de Programação Python. Para cada seção é apresentado um link (no título da seção) com um vídeo explicando o conteúdo a ser abordado. Uma Playlist com todo o conteúdo de Dedução Natural está disponível no [YouTube](https://youtube.com/playlist?list=PLfOnKvd6pFiq_BUI-llPhDeGR55P6nHfr).\n",
    "\n",
    "\n",
    "\n",
    "\n",
    "\n",
    "\n",
    "\n",
    "\n",
    "       "
   ]
  },
  {
   "attachments": {},
   "cell_type": "markdown",
   "metadata": {
    "id": "CT8IMTlwPk7U"
   },
   "source": [
    "# [Sistema Dedutível da Lógica Proposcional](https://youtu.be/EMvOcAYQHeI)\n",
    "\n",
    "Existem diversas formas de definir um sistema dedutível.\n",
    "- Um sistema dedutivo é um mecanismo que permite a construção de argumentos formais.\n",
    "- Um sistema dedutivo é um mecanismo que permite estabelecer conclusões a partir de hipóteses.\n",
    "- Um sistema dedutivo é um conjunto de regras (as vezes axiomas) que permite \"chegar\" a  conclusões (sentenças) a partir de premissas  (sentenças).\n",
    "\n",
    "Escrevemos $\\Gamma\\vdash_D\\varphi$ para indicar $\\varphi$ é provado com o mecanismo de dedução $D$ a partir de um conjunto de fórmulas $\\Gamma$. Em geral, espera-se que o sistema $D$ tenha uma relação de equivalência em relação à semântica da Lógica, ou seja, que o sistema $D$ possui os seguintes teoremas:\n",
    "-  **Teorema Correção:** $\\Gamma\\vdash_D\\varphi\\Longrightarrow\\Gamma\\models\\varphi$\n",
    "- **Teorema Completude:** $\\Gamma\\models\\varphi\\Longrightarrow\\Gamma\\vdash_D\\varphi$\n",
    "\n",
    "Por exemplo, um sistema que tem um axioma que demonstra qualquer fórmula é um sistema completo, porém não é correto. Um sistema que tenha apenas uma regra de inferência para eliminar a implicação (*modus ponens*) é correto, mas não é completo. Neste curso, iremos apresentar os seguintes sistemas dedutíveis que são corretos e completos:\n",
    "1. **Axiomático a la Hilbert e Bernays** que possue três esquemas axiomáticos e apenas uma regra de inferência (*modus ponens*);\n",
    "1. **Dedução Natural** que possui apenas regras de inferência nas quais podemos introduzir ou eliminar conectivos lógicos. Este sistema procura realizar demonstrações de forma similiar a que realizamos demonstrações em matemática;\n",
    "1. **Tableau Semântico (ou Analítico)** que é um sistema por refutação e que é um procedimento de decisão que não necessariamente gera provas de tamanho exponencial, como o método de Tabela-Verdade. "
   ]
  },
  {
   "attachments": {},
   "cell_type": "markdown",
   "metadata": {
    "id": "FIH5cbOOfTo4"
   },
   "source": [
    "## [Sistema Axiomático](https://youtu.be/1rEggEbWsz4)\n",
    "Existem diversos sistemas axiomáticos, dentre eles, apresentamos o Sistema de Hilbert e Bernays contém os seguintes esquemas axiomáticos e regras de inferência:\n",
    "- Axioma 1: $\\varphi\\rightarrow(\\psi\\rightarrow\\varphi)$\n",
    "- Axioma 2: $(\\varphi\\rightarrow(\\psi\\rightarrow\\sigma))\\rightarrow((\\varphi\\rightarrow\\psi)\\rightarrow(\\varphi\\rightarrow\\sigma))$\n",
    "- Axioma 3: $(\\lnot \\psi\\rightarrow\\lnot\\varphi)\\rightarrow((\\lnot \\psi\\rightarrow\\varphi)\\rightarrow\\psi)$ \n",
    "- Regra de inferência (*Modus Ponens*):\n",
    "$$\\cfrac{\\varphi \\hspace{5mm} \\varphi\\rightarrow\\psi}{\\psi}$$\n",
    "\n",
    " O sistema de Axiomático é um mecanismo que permite a construção de uma prova formal, estabelecendo uma conclusão $\\varphi$ a partir de um conjunto de premissas $\\Gamma = \\{\\varphi_1, \\varphi_2, \\cdots, \\varphi_n \\}$,  denotado por $\\Gamma\\vdash\\varphi$, aplicando-se sucessivamente **regras de Modus Ponens**. \n",
    "\n",
    " As provas (ou derivações) são apresentadas na forma de árvores onde a raiz da árvore é a fórmula que se quer provar e as folhas representam as premissas ou instâncias dos axiomas. Os nós intermediários são aplicações de regras de derivação (*Modus Ponens*) a partir de derivações.\n",
    "\n",
    "Vejamos a seguir um conjunto de demostrações.\n",
    "\n",
    "> **Exemplo:** Prove que $\\vdash_{Ax} A\\rightarrow (B\\rightarrow A)$\n",
    "> \n",
    "> Considerando o esquema axiomático Axioma 1: $\\varphi\\rightarrow(\\psi\\rightarrow\\varphi)$:\n",
    "> - Se $\\varphi=A$ e $\\psi=B$, temos o axioma $A\\rightarrow(B\\rightarrow A)$.\n",
    ">\n",
    "> Daí, a demonstração $A\\rightarrow (B\\rightarrow A)$ é a própria utilização da instância do Axioma 1 acima. Veja a prova:\n",
    "> $$A\\rightarrow (B\\rightarrow A)$$\n",
    "> **Exemplo:** Prove que $A, A\\rightarrow B\\vdash_{Ax} B$\n",
    "> \n",
    "> Considerando $\\varphi=A$ e $\\psi=B$, podemos utilizar a regra *Modus Ponens*, utilizando as premissas $A$ e $A\\rightarrow B$ para concluir $B$, como segue:\n",
    "> $$\\cfrac{A \\hspace{5mm} A\\rightarrow B}{B}$$\n",
    "> **Exemplo:** Prove que $A, A\\rightarrow B, B\\rightarrow C\\vdash_{Ax} C$\n",
    "> \n",
    "> Neste caso, iremos usar uma primeira vez a regra *Modus Ponens*, utilizando as premissas $A$ e $A\\rightarrow B$ para concluir $B$. Desta derivação e com a premissa $B\\rightarrow C$, usaremos novamos a regra de *Modus Ponens* e concluir $C$. Veja a demonstração abaixo:\n",
    "> $$\\cfrac{\\cfrac{A \\hspace{5mm} A\\rightarrow B}{B} \\hspace{5mm} B\\rightarrow C}{C}$$\n",
    ">\n",
    "> **Exemplo:** Prove que $\\vdash_{Ax} A\\rightarrow A$\n",
    "> \n",
    "> Considerando o esquema axiomático Axioma 1: $\\varphi\\rightarrow(\\psi\\rightarrow\\varphi)$:\n",
    "> - Se $\\varphi=A$ e $\\psi=B$, temos o axioma $A\\rightarrow(B\\rightarrow A)$.\n",
    "> - Se $\\varphi=A$ e $\\psi=B\\rightarrow A$, temos o axioma $A\\rightarrow((B\\rightarrow A)\\rightarrow A)$\n",
    ">\n",
    "> Considerando o esquema axiomático Axioma 2: $(\\varphi\\rightarrow(\\psi\\rightarrow\\sigma))\\rightarrow((\\varphi\\rightarrow\\psi)\\rightarrow(\\varphi\\rightarrow\\sigma))$:\n",
    "> - Se $\\varphi=A,\\psi=B\\rightarrow A$ e $\\sigma=A$, temos o axioma $(A\\rightarrow((B\\rightarrow A)\\rightarrow A))\\rightarrow (A\\rightarrow(B\\rightarrow A))\\rightarrow (A\\rightarrow A)$.\n",
    ">\n",
    "> Daí, podemos utilizar os axiomas acima e a regra de inferência *Modus Ponens* para concluir:\n",
    "> $$\\cfrac{ A\\rightarrow(B\\rightarrow A)\\hspace{5mm} \\cfrac{A\\rightarrow((B\\rightarrow A)\\rightarrow A) \\hspace{5mm} (A\\rightarrow((B\\rightarrow A)\\rightarrow A))\\rightarrow (A\\rightarrow(B\\rightarrow A))\\rightarrow (A\\rightarrow A)}{(A\\rightarrow(B\\rightarrow A))\\rightarrow (A\\rightarrow A)}\n",
    "}{A\\rightarrow A}$$\n",
    ">\n",
    "> **Exemplo:** Prove que $\\{A\\rightarrow B, B\\rightarrow C\\}\\vdash_{Ax} A\\rightarrow C$ \n",
    ">\n",
    "> Considerando o esquema axiomático Axioma 1: $\\varphi\\rightarrow(\\psi\\rightarrow\\varphi)$:\n",
    "> - Se $\\varphi=B\\rightarrow C$ e $\\psi=A$, temos o axioma $(B\\rightarrow C)\\rightarrow(A\\rightarrow (B\\rightarrow C))$ \n",
    ">\n",
    "> Considerando o esquema axiomático Axioma 2: $(\\varphi\\rightarrow(\\psi\\rightarrow\\sigma))\\rightarrow((\\varphi\\rightarrow\\psi)\\rightarrow(\\varphi\\rightarrow\\sigma))$:\n",
    "> - Se $\\varphi=A,\\psi=B$ e $\\sigma=C$, temos o axioma $(A\\rightarrow(B\\rightarrow C))\\rightarrow (A\\rightarrow B)\\rightarrow (A\\rightarrow C)$\n",
    ">\n",
    "> Daí, podemos utilizar as premissas $A\\rightarrow B$ e $B\\rightarrow C$, os axiomas acima e a regra de inferência *Modus Ponens* para concluir:\n",
    "> $$\\cfrac{A\\rightarrow B \\hspace{5mm} \\cfrac{\\cfrac{B\\rightarrow C \\hspace{5mm} (B\\rightarrow C)\\rightarrow(A\\rightarrow (B\\rightarrow C))}{A\\rightarrow(B\\rightarrow C)}  \\hspace{5mm} (A\\rightarrow(B\\rightarrow C))\\rightarrow (A\\rightarrow B)\\rightarrow (A\\rightarrow C)}{(A\\rightarrow B)\\rightarrow (A\\rightarrow C)}}{A\\rightarrow C}$$"
   ]
  },
  {
   "attachments": {},
   "cell_type": "markdown",
   "metadata": {
    "id": "HVcJrBO4-DTa"
   },
   "source": [
    "<!--NAVIGATION-->\n",
    "[< Semântica da Lógica Proposicional](./Cap%C3%ADtulo%2004%20-%20Sem%C3%A2ntica%20da%20L%C3%B3gica%20Proposicional.ipynb) | [Índice](./Index.ipynb) | [Dedução Natural da Lógica Proposicional >](./Cap%C3%ADtulo%2006%20-%20Dedu%C3%A7%C3%A3o%20Natural%20da%20L%C3%B3gica%20Proposicional.ipynb)"
   ]
  }
 ],
 "metadata": {
  "colab": {
   "collapsed_sections": [],
   "name": "Capítulo 05 - Sistema Dedutível da Lógica Proposicional.ipynb",
   "provenance": [
    {
     "file_id": "1VzIW19XBHVaBBIHza_X8EFMbMXJ-UhV_",
     "timestamp": 1647644079999
    },
    {
     "file_id": "1sLw93E2tBaeIjYG-1NUeNstrLmKQ6fdd",
     "timestamp": 1646921089703
    },
    {
     "file_id": "1iB9Idj1gtkhRUgZ_A2b5FsZAZQje_ykV",
     "timestamp": 1646519608975
    },
    {
     "file_id": "1dMj5azlXMe4rcmwrMw09mtKCVoY-JPp6",
     "timestamp": 1646433985335
    },
    {
     "file_id": "1bL3ny59cOEdiysKiLpRRRgzEZauoVrjm",
     "timestamp": 1646271141228
    },
    {
     "file_id": "195UsnqdKw37uxWVJTHOx9Cdp-JgRjKle",
     "timestamp": 1646141894495
    },
    {
     "file_id": "1nYrZqrK9qYJDoLWdLb2WN6PRzFJ8dmIb",
     "timestamp": 1646090526641
    },
    {
     "file_id": "1VJwYT1qpKSgeb3exPe_yTV9cQ_3txSht",
     "timestamp": 1645811012136
    },
    {
     "file_id": "1DXmSCUl8_gW-UGbua6P-VVjqmnau_fT2",
     "timestamp": 1645653340477
    },
    {
     "file_id": "15ehl7UERSYFTdUkCa949QuampNCeHe_d",
     "timestamp": 1645652944283
    }
   ]
  },
  "kernelspec": {
   "display_name": "base",
   "language": "python",
   "name": "python3"
  },
  "language_info": {
   "name": "python",
   "version": "3.9.7 (default, Sep 16 2021, 16:59:28) [MSC v.1916 64 bit (AMD64)]"
  },
  "vscode": {
   "interpreter": {
    "hash": "ad2bdc8ecc057115af97d19610ffacc2b4e99fae6737bb82f5d7fb13d2f2c186"
   }
  }
 },
 "nbformat": 4,
 "nbformat_minor": 0
}
