{
 "cells": [
  {
   "attachments": {},
   "cell_type": "markdown",
   "metadata": {},
   "source": [
    "# [Sistema Dedutível de Lógica de Primeira-Ordem]()\n",
    "\n",
    "Assim como na Lógica Proposicional existem diversos sistemas dedutíveis que são corretos e completos. Entratanto, nenhum deles tem a propriedade de decidibilidade, ou seja, não é possível ter um sistema dedutível correto e completo que demostre todos os teoremas da lógica de primeira-ordem por meio de um procedimento efetivo (algoritmo). Neste curso, iremos estender os seguintes sistemas para a lógica de primeira-ordem: Axiomático a la Hilbert e Bernays; Dedução Natural; Tableau Analítico (ou Semântico).\n",
    "\n",
    "## [Sistema Axiomático]()\n",
    "\n",
    "Existem diversos sistemas axiomáticos corretos e completos em relação a semântica.\n",
    "Além de todos os esquemas axiomáticos da lógica proposicional, temos os seguintes esquemas axiomáticos:\n",
    "\n",
    "- Axioma 4: $\\forall x \\varphi\\rightarrow\\varphi^x_t $, onde $x$ é substituível em $\\varphi$ por $t$.\n",
    "- Axioma 5: $\\forall x (\\varphi\\rightarrow\\psi)\\rightarrow(\\forall x\\varphi\\rightarrow\\forall x\\psi)$.\n",
    "- Axioma 6: $\\varphi \\rightarrow \\forall x\\varphi$, onde $x$ não ocorre livre em $\\varphi$.\n",
    "- Axioma 7: $x\\approx x$.\n",
    "- Axioma 8: $x\\approx y \\rightarrow (\\varphi\\rightarrow\\varphi^\\prime)$, onde $\\varphi$ é atômico e $\\varphi^\\prime$ é obtido a partir de $\\varphi$ pela substituição de $x$ zero ou mais vezes por $y$.\n",
    "\n"
   ]
  },
  {
   "attachments": {},
   "cell_type": "markdown",
   "metadata": {},
   "source": [
    "<!--NAVIGATION-->\n",
    "< [Semântica da Lógica de Primeira-Ordem](./Cap%C3%ADtulo%2010%20-%20Sem%C3%A2ntica%20da%20L%C3%B3gica%20de%20Primeira-Ordem.ipynb) | [Índice](./Index.ipynb) | [Dedução Natural da Lógica de Primeira-Ordem](./Cap%C3%ADtulo%2012%20-%20Dedu%C3%A7%C3%A3o%20Natural%20da%20L%C3%B3gica%20de%20Primeira-Ordem.ipynb) >"
   ]
  }
 ],
 "metadata": {
  "kernelspec": {
   "display_name": "base",
   "language": "python",
   "name": "python3"
  },
  "language_info": {
   "name": "python",
   "version": "3.9.7"
  },
  "orig_nbformat": 4,
  "vscode": {
   "interpreter": {
    "hash": "ad2bdc8ecc057115af97d19610ffacc2b4e99fae6737bb82f5d7fb13d2f2c186"
   }
  }
 },
 "nbformat": 4,
 "nbformat_minor": 2
}
