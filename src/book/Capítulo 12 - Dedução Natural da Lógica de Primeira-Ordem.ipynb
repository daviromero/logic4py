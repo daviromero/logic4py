{
 "cells": [
  {
   "attachments": {},
   "cell_type": "markdown",
   "metadata": {},
   "source": [
    "# Sistema de Dedução Natural\n",
    "\n",
    "Nesta seção iremos estender o sistema de Dedução Natural (DN) da Lógica Proposicional para incluir os predicados e os quantificadores. Iremos restringir a nossa apresentação para o fragmento da Lógica de Primeira-Ordem sem a igualdade e sem os termos (apenas variáveis são permitidas). Nas seções subsequentes apresentaremos DN nos estilos de Fitch e de Gentzen."
   ]
  },
  {
   "attachments": {},
   "cell_type": "markdown",
   "metadata": {},
   "source": [
    "<!--NAVIGATION-->\n",
    "< [Sistema Dedutível da Lógica de Primeira-Ordem](./Cap%C3%ADtulo%2011%20-%20Sistema%20Dedut%C3%ADvel%20da%20L%C3%B3gica%20de%20Primeira-Ordem.ipynb) | [Índice](./Index.ipynb) | [Dedução Natural da Lógica de Primeira-Ordem no Estilo de Fitch](./Cap%C3%ADtulo%2012.1%20-%20Dedu%C3%A7%C3%A3o%20Natural%20da%20L%C3%B3gica%20de%20Primeira-Ordem%20no%20Estilo%20de%20Fitch.ipynb) >"
   ]
  }
 ],
 "metadata": {
  "kernelspec": {
   "display_name": "base",
   "language": "python",
   "name": "python3"
  },
  "language_info": {
   "name": "python",
   "version": "3.9.7 (default, Sep 16 2021, 08:50:36) \n[Clang 10.0.0 ]"
  },
  "orig_nbformat": 4,
  "vscode": {
   "interpreter": {
    "hash": "40d3a090f54c6569ab1632332b64b2c03c39dcf918b08424e98f38b5ae0af88f"
   }
  }
 },
 "nbformat": 4,
 "nbformat_minor": 2
}
